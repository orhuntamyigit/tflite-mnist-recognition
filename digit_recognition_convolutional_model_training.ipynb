{
  "cells": [
    {
      "cell_type": "code",
      "execution_count": null,
      "metadata": {
        "id": "0PIjWH7inMci"
      },
      "outputs": [],
      "source": [
        "# ! pip install -q tensorflow-model-optimization"
      ]
    },
    {
      "cell_type": "code",
      "execution_count": null,
      "metadata": {
        "colab": {
          "base_uri": "https://localhost:8080/"
        },
        "id": "x66aL7SYhkHW",
        "outputId": "4ba829ea-adbe-4050-ea7e-e23a28591871"
      },
      "outputs": [
        {
          "output_type": "stream",
          "name": "stdout",
          "text": [
            "2.12.0\n"
          ]
        }
      ],
      "source": [
        "import tensorflow as tf\n",
        "from tensorflow import keras\n",
        "import keras.layers as layers\n",
        "from tensorflow.keras.models import Sequential\n",
        "from tensorflow.keras.layers import Conv2D, MaxPooling2D, Dense, Flatten\n",
        "from tensorflow.keras.utils import to_categorical\n",
        "from tensorflow.lite.python.util import convert_bytes_to_c_source\n",
        "from tensorflow import saved_model\n",
        "# import tensorflow_model_optimization as tfmot\n",
        "import numpy as np\n",
        "import matplotlib.pyplot as plt\n",
        "import random\n",
        "print(tf.__version__)"
      ]
    },
    {
      "cell_type": "code",
      "execution_count": null,
      "metadata": {
        "id": "LYcZCtBhh2MH"
      },
      "outputs": [],
      "source": [
        "dataset = tf.keras.datasets.mnist\n",
        "(train_images, train_labels), (test_images, test_labels) = dataset.load_data()"
      ]
    },
    {
      "cell_type": "code",
      "execution_count": null,
      "metadata": {
        "colab": {
          "base_uri": "https://localhost:8080/"
        },
        "id": "O52nRaUTh4py",
        "outputId": "e17c04e5-806d-42fc-9bfc-70c50985499b"
      },
      "outputs": [
        {
          "output_type": "stream",
          "name": "stdout",
          "text": [
            "Input shape: (28, 28, 1)\n"
          ]
        }
      ],
      "source": [
        "train_images = train_images.reshape(train_images.shape[0], train_images.shape[1], train_images.shape[2], 1)\n",
        "test_images = test_images.reshape(test_images.shape[0], test_images.shape[1], test_images.shape[2], 1)\n",
        "input_tensor_shape = (test_images.shape[1], test_images.shape[2], 1)\n",
        "print(\"Input shape: {}\".format(input_tensor_shape))"
      ]
    },
    {
      "cell_type": "code",
      "execution_count": null,
      "metadata": {
        "id": "RxL1thFKHDEL"
      },
      "outputs": [],
      "source": [
        "def to_c_array(values, ctype=\"float\", name=\"table\", formatter=str, colcount=28):\n",
        "    # apply formatting to each element\n",
        "    values = [formatter(v) for v in values]\n",
        "\n",
        "    # split into rows with up to `colcount` elements per row\n",
        "    rows = [values[i:i+colcount] for i in range(0, len(values), colcount)]\n",
        "\n",
        "    # separate elements with commas, separate rows with newlines\n",
        "    body = ',\\n    '.join([', '.join(r) for r in rows])\n",
        "\n",
        "    # assemble components into the complete string\n",
        "    return '{} {}[] = {{\\n    {}}};'.format(ctype, name, body)"
      ]
    },
    {
      "cell_type": "code",
      "execution_count": null,
      "metadata": {
        "colab": {
          "base_uri": "https://localhost:8080/"
        },
        "id": "qe7CBeQTFsCZ",
        "outputId": "6479d69b-7cd3-4ef5-896f-f97dea0e6b09"
      },
      "outputs": [
        {
          "output_type": "stream",
          "name": "stdout",
          "text": [
            "index: 35627 | label: 6\n"
          ]
        }
      ],
      "source": [
        "label = 6\n",
        "indexes = np.where(train_labels == label)\n",
        "index = random.choice(indexes[0])\n",
        "print(f\"index: {index} | label: {label}\")\n",
        "# print(train_images[index].flatten())"
      ]
    },
    {
      "cell_type": "code",
      "source": [
        "plt.figure()\n",
        "plt.imshow(train_images[index], cmap=plt.cm.binary)\n",
        "plt.xlabel(f\"original {train_labels[index]}\")\n",
        "plt.show()\n",
        "\n",
        "apr_img = np.where(train_images[index] > 127, 255, 0)\n",
        "plt.figure()\n",
        "plt.imshow(apr_img, cmap=plt.cm.binary)\n",
        "plt.xlabel(f\"MSB approximated {train_labels[index]}\")\n",
        "plt.show()\n"
      ],
      "metadata": {
        "colab": {
          "base_uri": "https://localhost:8080/",
          "height": 881
        },
        "id": "xprC-GpKe8FB",
        "outputId": "cedb6b80-61ad-4d6d-e43d-9a20a7529bdc"
      },
      "execution_count": null,
      "outputs": [
        {
          "output_type": "display_data",
          "data": {
            "text/plain": [
              "<Figure size 640x480 with 1 Axes>"
            ],
            "image/png": "[encoded data removed]"
          },
          "metadata": {}
        },
        {
          "output_type": "display_data",
          "data": {
            "text/plain": [
              "<Figure size 640x480 with 1 Axes>"
            ],
            "image/png": "[encoded data removed]"
          },
          "metadata": {}
        }
      ]
    },
    {
      "cell_type": "code",
      "source": [
        "example = train_images[index].flatten()\n",
        "example_signed = [x - 128 for x in example]\n",
        "print(to_c_array(example_signed))"
      ],
      "metadata": {
        "colab": {
          "base_uri": "https://localhost:8080/"
        },
        "id": "q5NjKEOWsm3D",
        "outputId": "f16a0fb1-c45b-4148-fc2d-38a7df8b6c4d"
      },
      "execution_count": null,
      "outputs": [
        {
          "output_type": "stream",
          "name": "stdout",
          "text": [
            "float table[] = {\n",
            "    -128, -128, -128, -128, -128, -128, -128, -128, -128, -128, -128, -128, -128, -128, -128, -128, -128, -128, -128, -128, -128, -128, -128, -128, -128, -128, -128, -128,\n",
            "    -128, -128, -128, -128, -128, -128, -128, -128, -128, -128, -128, -128, -128, -128, -128, -128, -128, -128, -128, -128, -128, -128, -128, -128, -128, -128, -128, -128,\n",
            "    -128, -128, -128, -128, -128, -128, -128, -128, -128, -128, -128, -128, -128, -128, -128, -128, -128, -128, -128, -128, -128, -128, -128, -128, -128, -128, -128, -128,\n",
            "    -128, -128, -128, -128, -128, -128, -128, -128, -128, -128, -128, -128, -128, -128, -128, -128, -128, -85, 115, 127, -108, -128, -128, -128, -128, -128, -128, -128,\n",
            "    -128, -128, -128, -128, -128, -128, -128, -128, -128, -128, -128, -128, -128, -128, -128, -125, -66, 94, 126, 122, -109, -128, -128, -128, -128, -128, -128, -128,\n",
            "    -128, -128, -128, -128, -128, -128, -128, -128, -128, -128, -128, -128, -128, -128, -126, -18, 125, 125, 119, -37, -128, -128, -128, -128, -128, -128, -128, -128,\n",
            "    -128, -128, -128, -128, -128, -128, -128, -128, -128, -128, -128, -128, -128, -96, 34, 126, 126, 120, -74, -128, -128, -128, -128, -128, -128, -128, -128, -128,\n",
            "    -128, -128, -128, -128, -128, -128, -128, -128, -128, -128, -128, -128, -99, 92, 125, 126, 56, -70, -128, -128, -128, -128, -128, -128, -128, -128, -128, -128,\n",
            "    -128, -128, -128, -128, -128, -128, -128, -128, -128, -128, -128, -111, 64, 125, 113, 9, -124, -128, -128, -128, -128, -128, -128, -128, -128, -128, -128, -128,\n",
            "    -128, -128, -128, -128, -128, -128, -128, -128, -128, -128, -99, 89, 126, 125, -12, -128, -128, -128, -128, -128, -128, -128, -128, -128, -128, -128, -128, -128,\n",
            "    -128, -128, -128, -128, -128, -128, -128, -128, -128, -111, 89, 125, 95, -71, -125, -128, -128, -128, -128, -128, -128, -128, -128, -128, -128, -128, -128, -128,\n",
            "    -128, -128, -128, -128, -128, -128, -128, -128, -128, 16, 126, 111, -91, -128, -128, -128, -128, -128, -128, -128, -128, -128, -128, -128, -128, -128, -128, -128,\n",
            "    -128, -128, -128, -128, -128, -128, -128, -128, -34, 125, 125, -71, -128, -128, -128, -128, -99, 21, 22, -9, -104, -128, -128, -128, -128, -128, -128, -128,\n",
            "    -128, -128, -128, -128, -128, -128, -128, -117, 79, 125, 124, -114, -128, -128, -125, -36, 99, 125, 126, 125, 33, -126, -128, -128, -128, -128, -128, -128,\n",
            "    -128, -128, -128, -128, -128, -128, -128, -7, 126, 107, -65, -128, -128, -128, 0, 126, 126, 125, 102, 125, 126, -1, -128, -128, -128, -128, -128, -128,\n",
            "    -128, -128, -128, -128, -128, -128, -128, 37, 125, 44, -128, -128, -122, 44, 118, 126, 107, -55, -94, 92, 126, 36, -128, -128, -128, -128, -128, -128,\n",
            "    -128, -128, -128, -128, -128, -128, -84, 114, 125, -104, -128, -128, 33, 125, 125, 58, -115, -128, -128, 51, 126, 35, -128, -128, -128, -128, -128, -128,\n",
            "    -128, -128, -128, -128, -128, -128, -13, 126, 59, -125, -128, 5, 119, 126, 23, -117, -128, -128, -86, 117, 126, -13, -128, -128, -128, -128, -128, -128,\n",
            "    -128, -128, -128, -128, -128, -128, 36, 126, 50, -128, -101, 116, 125, 110, -94, -128, -128, -105, 106, 125, 69, -109, -128, -128, -128, -128, -128, -128,\n",
            "    -128, -128, -128, -128, -128, -128, 23, 126, 120, 16, 46, 126, 126, 4, -93, -69, 12, 112, 126, 114, -25, -128, -128, -128, -128, -128, -128, -128,\n",
            "    -128, -128, -128, -128, -128, -128, -111, 25, 126, 126, 126, 126, 126, 126, 126, 126, 126, 125, 81, -55, -128, -128, -128, -128, -128, -128, -128, -128,\n",
            "    -128, -128, -128, -128, -128, -128, -128, -123, -89, 76, 126, 126, 91, 61, 22, 57, -19, -58, -112, -128, -128, -128, -128, -128, -128, -128, -128, -128,\n",
            "    -128, -128, -128, -128, -128, -128, -128, -128, -128, -109, 98, 94, -115, -128, -128, -128, -128, -128, -128, -128, -128, -128, -128, -128, -128, -128, -128, -128,\n",
            "    -128, -128, -128, -128, -128, -128, -128, -128, -128, -128, -128, -128, -128, -128, -128, -128, -128, -128, -128, -128, -128, -128, -128, -128, -128, -128, -128, -128,\n",
            "    -128, -128, -128, -128, -128, -128, -128, -128, -128, -128, -128, -128, -128, -128, -128, -128, -128, -128, -128, -128, -128, -128, -128, -128, -128, -128, -128, -128,\n",
            "    -128, -128, -128, -128, -128, -128, -128, -128, -128, -128, -128, -128, -128, -128, -128, -128, -128, -128, -128, -128, -128, -128, -128, -128, -128, -128, -128, -128,\n",
            "    -128, -128, -128, -128, -128, -128, -128, -128, -128, -128, -128, -128, -128, -128, -128, -128, -128, -128, -128, -128, -128, -128, -128, -128, -128, -128, -128, -128,\n",
            "    -128, -128, -128, -128, -128, -128, -128, -128, -128, -128, -128, -128, -128, -128, -128, -128, -128, -128, -128, -128, -128, -128, -128, -128, -128, -128, -128, -128};\n"
          ]
        }
      ]
    },
    {
      "cell_type": "code",
      "source": [
        "example_apr = apr_img.flatten()\n",
        "example_apr_sgn = [x - 128 for x in example_apr]\n",
        "print(to_c_array(example_apr_sgn))"
      ],
      "metadata": {
        "colab": {
          "base_uri": "https://localhost:8080/"
        },
        "id": "KtJu-7woxeow",
        "outputId": "6374a69f-d403-4ed8-87fb-fca1a8b87c6d"
      },
      "execution_count": null,
      "outputs": [
        {
          "output_type": "stream",
          "name": "stdout",
          "text": [
            "float table[] = {\n",
            "    -128, -128, -128, -128, -128, -128, -128, -128, -128, -128, -128, -128, -128, -128, -128, -128, -128, -128, -128, -128, -128, -128, -128, -128, -128, -128, -128, -128,\n",
            "    -128, -128, -128, -128, -128, -128, -128, -128, -128, -128, -128, -128, -128, -128, -128, -128, -128, -128, -128, -128, -128, -128, -128, -128, -128, -128, -128, -128,\n",
            "    -128, -128, -128, -128, -128, -128, -128, -128, -128, -128, -128, -128, -128, -128, -128, -128, -128, -128, -128, -128, -128, -128, -128, -128, -128, -128, -128, -128,\n",
            "    -128, -128, -128, -128, -128, -128, -128, -128, -128, -128, -128, -128, -128, -128, -128, -128, -128, -128, 127, 127, -128, -128, -128, -128, -128, -128, -128, -128,\n",
            "    -128, -128, -128, -128, -128, -128, -128, -128, -128, -128, -128, -128, -128, -128, -128, -128, -128, 127, 127, 127, -128, -128, -128, -128, -128, -128, -128, -128,\n",
            "    -128, -128, -128, -128, -128, -128, -128, -128, -128, -128, -128, -128, -128, -128, -128, -128, 127, 127, 127, -128, -128, -128, -128, -128, -128, -128, -128, -128,\n",
            "    -128, -128, -128, -128, -128, -128, -128, -128, -128, -128, -128, -128, -128, -128, 127, 127, 127, 127, -128, -128, -128, -128, -128, -128, -128, -128, -128, -128,\n",
            "    -128, -128, -128, -128, -128, -128, -128, -128, -128, -128, -128, -128, -128, 127, 127, 127, 127, -128, -128, -128, -128, -128, -128, -128, -128, -128, -128, -128,\n",
            "    -128, -128, -128, -128, -128, -128, -128, -128, -128, -128, -128, -128, 127, 127, 127, 127, -128, -128, -128, -128, -128, -128, -128, -128, -128, -128, -128, -128,\n",
            "    -128, -128, -128, -128, -128, -128, -128, -128, -128, -128, -128, 127, 127, 127, -128, -128, -128, -128, -128, -128, -128, -128, -128, -128, -128, -128, -128, -128,\n",
            "    -128, -128, -128, -128, -128, -128, -128, -128, -128, -128, 127, 127, 127, -128, -128, -128, -128, -128, -128, -128, -128, -128, -128, -128, -128, -128, -128, -128,\n",
            "    -128, -128, -128, -128, -128, -128, -128, -128, -128, 127, 127, 127, -128, -128, -128, -128, -128, -128, -128, -128, -128, -128, -128, -128, -128, -128, -128, -128,\n",
            "    -128, -128, -128, -128, -128, -128, -128, -128, -128, 127, 127, -128, -128, -128, -128, -128, -128, 127, 127, -128, -128, -128, -128, -128, -128, -128, -128, -128,\n",
            "    -128, -128, -128, -128, -128, -128, -128, -128, 127, 127, 127, -128, -128, -128, -128, -128, 127, 127, 127, 127, 127, -128, -128, -128, -128, -128, -128, -128,\n",
            "    -128, -128, -128, -128, -128, -128, -128, -128, 127, 127, -128, -128, -128, -128, 127, 127, 127, 127, 127, 127, 127, -128, -128, -128, -128, -128, -128, -128,\n",
            "    -128, -128, -128, -128, -128, -128, -128, 127, 127, 127, -128, -128, -128, 127, 127, 127, 127, -128, -128, 127, 127, 127, -128, -128, -128, -128, -128, -128,\n",
            "    -128, -128, -128, -128, -128, -128, -128, 127, 127, -128, -128, -128, 127, 127, 127, 127, -128, -128, -128, 127, 127, 127, -128, -128, -128, -128, -128, -128,\n",
            "    -128, -128, -128, -128, -128, -128, -128, 127, 127, -128, -128, 127, 127, 127, 127, -128, -128, -128, -128, 127, 127, -128, -128, -128, -128, -128, -128, -128,\n",
            "    -128, -128, -128, -128, -128, -128, 127, 127, 127, -128, -128, 127, 127, 127, -128, -128, -128, -128, 127, 127, 127, -128, -128, -128, -128, -128, -128, -128,\n",
            "    -128, -128, -128, -128, -128, -128, 127, 127, 127, 127, 127, 127, 127, 127, -128, -128, 127, 127, 127, 127, -128, -128, -128, -128, -128, -128, -128, -128,\n",
            "    -128, -128, -128, -128, -128, -128, -128, 127, 127, 127, 127, 127, 127, 127, 127, 127, 127, 127, 127, -128, -128, -128, -128, -128, -128, -128, -128, -128,\n",
            "    -128, -128, -128, -128, -128, -128, -128, -128, -128, 127, 127, 127, 127, 127, 127, 127, -128, -128, -128, -128, -128, -128, -128, -128, -128, -128, -128, -128,\n",
            "    -128, -128, -128, -128, -128, -128, -128, -128, -128, -128, 127, 127, -128, -128, -128, -128, -128, -128, -128, -128, -128, -128, -128, -128, -128, -128, -128, -128,\n",
            "    -128, -128, -128, -128, -128, -128, -128, -128, -128, -128, -128, -128, -128, -128, -128, -128, -128, -128, -128, -128, -128, -128, -128, -128, -128, -128, -128, -128,\n",
            "    -128, -128, -128, -128, -128, -128, -128, -128, -128, -128, -128, -128, -128, -128, -128, -128, -128, -128, -128, -128, -128, -128, -128, -128, -128, -128, -128, -128,\n",
            "    -128, -128, -128, -128, -128, -128, -128, -128, -128, -128, -128, -128, -128, -128, -128, -128, -128, -128, -128, -128, -128, -128, -128, -128, -128, -128, -128, -128,\n",
            "    -128, -128, -128, -128, -128, -128, -128, -128, -128, -128, -128, -128, -128, -128, -128, -128, -128, -128, -128, -128, -128, -128, -128, -128, -128, -128, -128, -128,\n",
            "    -128, -128, -128, -128, -128, -128, -128, -128, -128, -128, -128, -128, -128, -128, -128, -128, -128, -128, -128, -128, -128, -128, -128, -128, -128, -128, -128, -128};\n"
          ]
        }
      ]
    },
    {
      "cell_type": "code",
      "execution_count": null,
      "metadata": {
        "colab": {
          "base_uri": "https://localhost:8080/"
        },
        "id": "J591aMGjI9Gc",
        "outputId": "0a8e3af9-a909-4eff-f8af-c96c6747d778"
      },
      "outputs": [
        {
          "output_type": "stream",
          "name": "stdout",
          "text": [
            "127.0\n",
            "-128.0\n"
          ]
        }
      ],
      "source": [
        "train_images = train_images.astype('float32')\n",
        "test_images = train_images.astype('float32')\n",
        "\n",
        "train_images -= 128\n",
        "test_images -= 128\n",
        "print(train_images.max())\n",
        "print(train_images.min())"
      ]
    },
    {
      "cell_type": "code",
      "execution_count": null,
      "metadata": {
        "id": "Z6Kjrfs_jPhs"
      },
      "outputs": [],
      "source": [
        "num_filters = 4\n",
        "filter_size = (3, 3)\n",
        "padding = \"SAME\"  # to preserve the output shape use \"SAME\"\n",
        "use_bias = False\n",
        "pool_size = (2, 2)"
      ]
    },
    {
      "cell_type": "code",
      "source": [
        "# # define a custom layer. also needs to be implemented explicitly in TFLite C library\n",
        "# class CustomConv(Conv2D):\n",
        "#   def convolution_op(self, inputs, filter):\n",
        "#     return tf.nn.conv2d(inputs,\n",
        "#                         filter,\n",
        "#                         strides=(1, 1), # default stride is (1, 1)\n",
        "#                         padding=padding,\n",
        "#                         name=self.__class__.__name__,)"
      ],
      "metadata": {
        "id": "plkvFSWqagAY"
      },
      "execution_count": null,
      "outputs": []
    },
    {
      "cell_type": "code",
      "source": [
        "# @tf.function\n",
        "# def customConv2Dfunc(inputs):\n",
        "#   return tf.nn.conv2d(inputs,\n",
        "#                       filter,\n",
        "#                       strides=(1, 1), # default stride is (1, 1)\n",
        "#                       padding=padding,\n",
        "#                       name=\"customConv2Dfunc\")"
      ],
      "metadata": {
        "id": "yJ19rs0EhVkc"
      },
      "execution_count": null,
      "outputs": []
    },
    {
      "cell_type": "code",
      "execution_count": null,
      "metadata": {
        "colab": {
          "base_uri": "https://localhost:8080/"
        },
        "id": "bsfit26Fh9wh",
        "outputId": "19130f18-35ed-4078-8cac-329e9137a95a"
      },
      "outputs": [
        {
          "output_type": "stream",
          "name": "stdout",
          "text": [
            "Model: \"sequential_4\"\n",
            "_________________________________________________________________\n",
            " Layer (type)                Output Shape              Param #   \n",
            "=================================================================\n",
            " conv2d_3 (Conv2D)           (None, 28, 28, 4)         36        \n",
            "                                                                 \n",
            " max_pooling2d_4 (MaxPooling  (None, 14, 14, 4)        0         \n",
            " 2D)                                                             \n",
            "                                                                 \n",
            " flatten_4 (Flatten)         (None, 784)               0         \n",
            "                                                                 \n",
            " dense_4 (Dense)             (None, 10)                7850      \n",
            "                                                                 \n",
            "=================================================================\n",
            "Total params: 7,886\n",
            "Trainable params: 7,886\n",
            "Non-trainable params: 0\n",
            "_________________________________________________________________\n"
          ]
        }
      ],
      "source": [
        "model = Sequential([\n",
        "    # CustomConv(filters=num_filters, kernel_size=filter_size, use_bias=use_bias, padding=padding, input_shape=input_tensor_shape),\n",
        "    Conv2D(filters=num_filters, kernel_size=filter_size, use_bias=use_bias, padding=padding, input_shape=input_tensor_shape),\n",
        "    MaxPooling2D(pool_size=pool_size),\n",
        "    Flatten(),\n",
        "    Dense(10, tf.nn.softmax),\n",
        "])\n",
        "model.summary()\n",
        "\n",
        "# quantize_model = tfmot.quantization.keras.quantize_model\n",
        "# model = quantize_model(model)\n",
        "# print(model.weights)"
      ]
    },
    {
      "cell_type": "code",
      "execution_count": null,
      "metadata": {
        "id": "0e5rfNZ_h_pl"
      },
      "outputs": [],
      "source": [
        "model.compile('adam', loss='sparse_categorical_crossentropy', metrics=['accuracy'])"
      ]
    },
    {
      "cell_type": "code",
      "source": [
        "model.fit(train_images, train_labels, epochs=3)"
      ],
      "metadata": {
        "colab": {
          "base_uri": "https://localhost:8080/"
        },
        "id": "D5Uq2N7kkPLr",
        "outputId": "252381ca-9330-44b0-af90-64341f0bc520"
      },
      "execution_count": null,
      "outputs": [
        {
          "output_type": "stream",
          "name": "stdout",
          "text": [
            "Epoch 1/3\n",
            "1875/1875 [==============================] - 20s 10ms/step - loss: 4.0386 - accuracy: 0.8486\n",
            "Epoch 2/3\n",
            "1875/1875 [==============================] - 18s 10ms/step - loss: 0.6160 - accuracy: 0.9161\n",
            "Epoch 3/3\n",
            "1875/1875 [==============================] - 20s 10ms/step - loss: 0.3270 - accuracy: 0.9324\n"
          ]
        },
        {
          "output_type": "execute_result",
          "data": {
            "text/plain": [
              "<keras.callbacks.History at 0x7fbba3623430>"
            ]
          },
          "metadata": {},
          "execution_count": 104
        }
      ]
    },
    {
      "cell_type": "code",
      "execution_count": null,
      "metadata": {
        "id": "_Ykix6MuiKEo",
        "colab": {
          "base_uri": "https://localhost:8080/"
        },
        "outputId": "6eabb693-1f07-419e-ac19-e8d9ec3d5c8d"
      },
      "outputs": [
        {
          "output_type": "stream",
          "name": "stderr",
          "text": [
            "WARNING:absl:Found untraced functions such as _jit_compiled_convolution_op, _update_step_xla while saving (showing 2 of 2). These functions will not be directly callable after loading.\n",
            "/usr/local/lib/python3.10/dist-packages/tensorflow/lite/python/convert.py:789: UserWarning: Statistics for quantized inputs were expected, but not specified; continuing anyway.\n",
            "  warnings.warn(\"Statistics for quantized inputs were expected, but not \"\n"
          ]
        }
      ],
      "source": [
        "def representative_dataset_gen():\n",
        "  for image in test_images:\n",
        "    array = np.array(image)\n",
        "    array = np.expand_dims(array, axis=0)\n",
        "    yield ([array])\n",
        "\n",
        "converter = tf.lite.TFLiteConverter.from_keras_model(model)\n",
        "\n",
        "converter.target_spec.supported_ops = [tf.lite.OpsSet.TFLITE_BUILTINS_INT8]\n",
        "converter.optimizations = [tf.lite.Optimize.DEFAULT]\n",
        "converter.inference_input_type = tf.int8\n",
        "converter.inference_output_type = tf.int8\n",
        "converter.representative_dataset = representative_dataset_gen\n",
        "converter.allow_custom_ops = True\n",
        "\n",
        "tflite_model = converter.convert()\n",
        "\n",
        "open(\"conv_model.tflite\", \"wb\").write(tflite_model)\n",
        "!xxd -i conv_model.tflite > conv_model_array.cc"
      ]
    },
    {
      "cell_type": "code",
      "execution_count": null,
      "metadata": {
        "id": "9iVu7ER9iOTy"
      },
      "outputs": [],
      "source": [
        "# source_text, header_text = convert_bytes_to_c_source(tflite_model,  \"tflite_model\")\n",
        "\n",
        "# with  open('/content/conv_model.h',  'w')  as  file:\n",
        "#     file.write(header_text)\n",
        "\n",
        "# with  open('/content/conv_model.cc',  'w')  as  file:\n",
        "#     file.write(source_text)"
      ]
    },
    {
      "cell_type": "code",
      "execution_count": null,
      "metadata": {
        "id": "2GpsVNkPiQTv"
      },
      "outputs": [],
      "source": [
        "# !cat /content/conv_model_array.cc"
      ]
    }
  ],
  "metadata": {
    "colab": {
      "provenance": []
    },
    "kernelspec": {
      "display_name": "Python 3",
      "name": "python3"
    },
    "language_info": {
      "name": "python"
    }
  },
  "nbformat": 4,
  "nbformat_minor": 0
}